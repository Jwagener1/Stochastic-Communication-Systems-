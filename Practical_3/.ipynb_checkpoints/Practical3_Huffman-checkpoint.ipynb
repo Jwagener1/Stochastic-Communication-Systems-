{
 "cells": [
  {
   "cell_type": "code",
   "execution_count": 1,
   "metadata": {},
   "outputs": [],
   "source": [
    "import numpy as np\n",
    "import matplotlib.pyplot as plt\n",
    "from matplotlib import rc\n",
    "from matplotlib.ticker import EngFormatter\n",
    "import scipy.signal as sp\n",
    "from ipywidgets import interact, interactive, fixed, interact_manual\n",
    "rc('font',family='serif')\n",
    "plt.rcParams['figure.dpi'] = 300\n",
    "formatter0 = EngFormatter(unit='Hz')\n",
    "%matplotlib inline"
   ]
  },
  {
   "cell_type": "code",
   "execution_count": 2,
   "metadata": {},
   "outputs": [],
   "source": [
    "file = open(\"data.bin\", \"r\")\n",
    "interleaved_data = np.fromfile(file, np.uint8)\n",
    "file.close()"
   ]
  },
  {
   "cell_type": "code",
   "execution_count": 3,
   "metadata": {},
   "outputs": [],
   "source": [
    "I_data_raw = interleaved_data[0:len(interleaved_data):2]\n",
    "Q_data_raw = interleaved_data[1:len(interleaved_data):2]\n",
    "\n",
    "I_samples = (I_data_raw-127.5)/127.5\n",
    "Q_samples = (Q_data_raw-127.5)/127.5\n",
    "\n",
    "complex_data = I_samples + 1j*Q_samples"
   ]
  },
  {
   "cell_type": "code",
   "execution_count": 4,
   "metadata": {},
   "outputs": [
    {
     "data": {
      "application/vnd.jupyter.widget-view+json": {
       "model_id": "ae8ab67dc155426a992bbcaee0ff01cb",
       "version_major": 2,
       "version_minor": 0
      },
      "text/plain": [
       "interactive(children=(IntSlider(value=0, description='x', max=25, min=-25), Output()), _dom_classes=('widget-i…"
      ]
     },
     "metadata": {},
     "output_type": "display_data"
    },
    {
     "data": {
      "text/plain": [
       "<function __main__.f(x)>"
      ]
     },
     "execution_count": 4,
     "metadata": {},
     "output_type": "execute_result"
    }
   ],
   "source": [
    "def f(x): \n",
    "    start = 156259\n",
    "    end = 180500\n",
    "    DATA_I = I_samples[start:end]\n",
    "    DATA_Q = Q_samples[start:end]\n",
    "    DATA_mag = np.abs(complex_data)[start:end]\n",
    "    DATA_I = DATA_I / DATA_mag.max()\n",
    "    DATA_Q = DATA_Q / DATA_mag.max()\n",
    "    DATA_signal = DATA_I + 1j*DATA_Q\n",
    "    fs = 2.4E6 #Carrier frequency of SDR\n",
    "    dt = 1/(fs) #Timestep between samples \n",
    "    freq = np.fft.fftfreq(len(DATA_signal),dt)\n",
    "    bins=np.arange(0,len(DATA_signal),1)\n",
    "    t=bins*dt\n",
    "    DATA_SIGNAL_O = np.fft.fft(DATA_signal)\n",
    "    DATA_MAG_O = 10*np.log10(np.abs(DATA_SIGNAL_O))\n",
    "    Δ_Φ = np.diff(np.unwrap((np.angle(DATA_signal[2:227]))))\n",
    "    Δ_f = np.median(Δ_Φ)  / (np.pi*2*dt)  \n",
    "    #print(\" Corse Frequency Offset:\",Δ_f,'Hz')\n",
    "    DATA_signal = DATA_signal*(np.cos(2*np.pi*(-1*Δ_f)*t) + 1j*np.sin(2*np.pi*(-1*Δ_f)*t))\n",
    "    DATA_SIGNAL = np.fft.fft(DATA_signal)\n",
    "    DATA_MAG = 10*np.log10(np.abs(DATA_SIGNAL))\n",
    "    DATA_SIGNAL_ABS = np.fft.fft(np.abs(DATA_signal))\n",
    "    DATA_MAG_ABS = 10*np.log10(np.abs(DATA_SIGNAL_ABS))\n",
    "    DATA_SIGNAL_Φ = np.angle(DATA_SIGNAL_ABS)\n",
    "    #Thus we obtain the frequency of the clock by lDBPSKing for the largest spike above the noise.\n",
    "    Index_max = 800+(DATA_MAG_ABS[800:1200].argmax())\n",
    "    f_clk=freq[Index_max]\n",
    "    freq_δ = np.abs(freq[0]-freq[1])/2\n",
    "    #Now need to obtain the phase of the clock.\n",
    "    # I did this by using the index function which searches the array and returns the bin where that value is located\n",
    "    for i, j in enumerate(freq):\n",
    "        if (f_clk-freq_δ) < j < (f_clk+freq_δ):\n",
    "                freq_bin=(i)\n",
    "    f_clk = freq[freq_bin]\n",
    "    Φ =DATA_SIGNAL_Φ[freq_bin]\n",
    "    #print('Clock Frequency:',f_clk,'Hz')\n",
    "    #print('Φ:',Φ,'radians')\n",
    "    #print('bin:',freq_bin)\n",
    "\n",
    "    Φ = DATA_SIGNAL_Φ[freq_bin]\n",
    "    f = freq[freq_bin]\n",
    "    ω = 2 * np.pi * f\n",
    "    NCO = np.cos((ω*t)+Φ) + 1j*np.sin((ω*t)+Φ)\n",
    "    NCO = NCO * (0.6)\n",
    "    global peak_bins \n",
    "    peak_bins = sp.find_peaks(np.real(NCO))\n",
    "    symbol_data = np.interp(peak_bins[0],bins,DATA_signal)\n",
    "    sym_max = np.abs(symbol_data).max()\n",
    "    global norm_data\n",
    "    norm_data = np.real(symbol_data)/sym_max + 1j*np.imag(symbol_data)/sym_max\n",
    "        \n",
    "    \n",
    "    plt.rcParams['figure.figsize'] = (16,8)\n",
    "    plt.figure(1)\n",
    "    plt.plot(bins,np.abs(DATA_signal))\n",
    "    plt.plot(bins,np.real(NCO))\n",
    "    plt.xlim(0,290)\n",
    "    plt.grid()\n",
    "    plt.show()\n",
    "    \n",
    "    \n",
    "    plt.figure(2)\n",
    "    plt.plot(np.abs(norm_data),'r+')\n",
    "    plt.ylim(0,np.abs(norm_data).max())\n",
    "    plt.grid()\n",
    "    plt.show()\n",
    "    \n",
    "    plt.rcParams['figure.figsize'] = (8,8)\n",
    "    plt.figure(3)\n",
    "    plt.scatter(np.real(norm_data),np.imag(norm_data) ,linewidths=0.5,facecolors='none', edgecolors='b')\n",
    "    plt.xlabel(\"In-Phase\") \n",
    "    plt.ylabel(\"Quadrature\")\n",
    "    plt.title(\"DBPSK: Scatter plot, downsampled\")\n",
    "    plt.grid()\n",
    "    plt.show()\n",
    "    \n",
    "    plt.figure(4)\n",
    "    plt.plot(np.unwrap(np.angle(norm_data)))\n",
    "    plt.grid()\n",
    "    plt.show()\n",
    "interact(f,x=(-25,25,1))"
   ]
  },
  {
   "cell_type": "markdown",
   "metadata": {},
   "source": [
    "# Carrier Synchronization DBPSK"
   ]
  },
  {
   "cell_type": "code",
   "execution_count": 1,
   "metadata": {},
   "outputs": [
    {
     "ename": "NameError",
     "evalue": "name 'norm_data' is not defined",
     "output_type": "error",
     "traceback": [
      "\u001b[1;31m---------------------------------------------------------------------------\u001b[0m",
      "\u001b[1;31mNameError\u001b[0m                                 Traceback (most recent call last)",
      "\u001b[1;32m<ipython-input-1-3c8d70e85fad>\u001b[0m in \u001b[0;36m<module>\u001b[1;34m\u001b[0m\n\u001b[0;32m      6\u001b[0m \u001b[0mΦ_error\u001b[0m \u001b[1;33m=\u001b[0m \u001b[1;33m[\u001b[0m\u001b[1;33m]\u001b[0m\u001b[1;33m\u001b[0m\u001b[1;33m\u001b[0m\u001b[0m\n\u001b[0;32m      7\u001b[0m \u001b[0mΔ_Φ\u001b[0m \u001b[1;33m=\u001b[0m \u001b[1;33m[\u001b[0m\u001b[1;33m]\u001b[0m\u001b[1;33m\u001b[0m\u001b[1;33m\u001b[0m\u001b[0m\n\u001b[1;32m----> 8\u001b[1;33m \u001b[1;32mfor\u001b[0m \u001b[0mi\u001b[0m \u001b[1;32min\u001b[0m \u001b[0mrange\u001b[0m \u001b[1;33m(\u001b[0m\u001b[0mlen\u001b[0m\u001b[1;33m(\u001b[0m\u001b[0mnorm_data\u001b[0m\u001b[1;33m)\u001b[0m\u001b[1;33m)\u001b[0m\u001b[1;33m:\u001b[0m\u001b[1;33m\u001b[0m\u001b[1;33m\u001b[0m\u001b[0m\n\u001b[0m\u001b[0;32m      9\u001b[0m     \u001b[0msd_after\u001b[0m\u001b[1;33m.\u001b[0m\u001b[0mappend\u001b[0m\u001b[1;33m(\u001b[0m\u001b[0mnorm_data\u001b[0m\u001b[1;33m[\u001b[0m\u001b[0mi\u001b[0m\u001b[1;33m]\u001b[0m\u001b[1;33m)\u001b[0m\u001b[1;33m\u001b[0m\u001b[1;33m\u001b[0m\u001b[0m\n\u001b[0;32m     10\u001b[0m     \u001b[1;32mif\u001b[0m \u001b[0mi\u001b[0m \u001b[1;33m<\u001b[0m \u001b[1;36m10\u001b[0m\u001b[1;33m:\u001b[0m\u001b[1;33m\u001b[0m\u001b[1;33m\u001b[0m\u001b[0m\n",
      "\u001b[1;31mNameError\u001b[0m: name 'norm_data' is not defined"
     ]
    }
   ],
   "source": [
    "sd_after=[]\n",
    "p0 = 1 + 1j*0\n",
    "ΔΦ = 0\n",
    "Φ_e = 0\n",
    "\n",
    "Φ_error = []\n",
    "Δ_Φ = []\n",
    "for i in range (len(norm_data)):\n",
    "    sd_after.append(norm_data[i])\n",
    "    if i == 0:\n",
    "        ΔΦ = np.angle(sd_after[i]*np.conj(p0))\n",
    "        Φ_e += ΔΦ\n",
    "    else:\n",
    "        ΔΦ = np.angle(norm_data[i]*np.conj(norm_data[i-1]))\n",
    "        if (np.pi/4) < np.abs(ΔΦ):\n",
    "            Φ_e += (ΔΦ + np.pi)\n",
    "        else:\n",
    "            Φ_e += ΔΦ\n",
    "    sd_after[i] = sd_after[i] * np.e**(-1j*Φ_e)\n",
    "    Φ_error.append(Φ_e)\n",
    "    Δ_Φ.append(ΔΦ)  \n",
    "plt.rcParams['figure.figsize'] = (24,8)\n",
    "f, (ax1, ax2) = plt.subplots(1, 2, sharey=True)\n",
    "ax1.scatter(np.real(norm_data),np.imag(norm_data) ,linewidths=0.5,facecolors='b', edgecolors='b')\n",
    "ax1.set_xlabel(\"In-Phase\") \n",
    "ax1.set_ylabel(\"Quadrature\")\n",
    "ax1.set_title(\"Before\")\n",
    "ax1.set_xlim(-1.1,1.1)\n",
    "ax1.set_ylim(-1.1,1.1)\n",
    "ax1.grid()\n",
    "ax2.scatter(np.real(sd_after),np.imag(sd_after) ,linewidths=0.5,facecolors='r', edgecolors='r')\n",
    "ax2.set_xlabel(\"In-Phase\") \n",
    "ax2.set_ylabel(\"Quadrature\")\n",
    "ax2.set_title(\"After\")\n",
    "ax2.set_xlim(-1.1,1.1)\n",
    "ax2.set_ylim(-1.1,1.1)\n",
    "ax2.grid()\n",
    "plt.show()"
   ]
  },
  {
   "cell_type": "code",
   "execution_count": 12,
   "metadata": {},
   "outputs": [
    {
     "name": "stdout",
     "output_type": "stream",
     "text": [
      "^Smoking will kill you, and bacon will kill you.  But, smoking bacon will cure it.\n"
     ]
    }
   ],
   "source": [
    "Δ_Φ = np.abs(np.diff((np.angle(sd_after,deg='True'))))\n",
    "data=[]\n",
    "for i in range(len(Δ_Φ)):\n",
    "    if 100 < Δ_Φ[i] < 260:\n",
    "        data.append('1')\n",
    "    else:\n",
    "        data.append('0')\n",
    "data = ''.join(data[9:])\n",
    "message = \"\"\n",
    "for i in  range(0,656,8):\n",
    "    temp_data = data[i:i + 8]\n",
    "    decimal_data = int(temp_data, 2) \n",
    "    message = message + chr(decimal_data)\n",
    "print(message)  "
   ]
  }
 ],
 "metadata": {
  "kernelspec": {
   "display_name": "Python 3",
   "language": "python",
   "name": "python3"
  },
  "language_info": {
   "codemirror_mode": {
    "name": "ipython",
    "version": 3
   },
   "file_extension": ".py",
   "mimetype": "text/x-python",
   "name": "python",
   "nbconvert_exporter": "python",
   "pygments_lexer": "ipython3",
   "version": "3.8.2"
  }
 },
 "nbformat": 4,
 "nbformat_minor": 4
}
