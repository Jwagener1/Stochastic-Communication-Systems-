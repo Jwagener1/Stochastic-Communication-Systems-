{
 "cells": [
  {
   "cell_type": "code",
   "execution_count": 2,
   "metadata": {},
   "outputs": [],
   "source": [
    "import numpy as np\n",
    "import matplotlib.pyplot as plt\n",
    "from matplotlib import rc\n",
    "from matplotlib.ticker import EngFormatter\n",
    "import scipy.signal as sp\n",
    "import ipywidgets as widgets\n",
    "from IPython.display import display\n",
    "rc('font',family='serif')\n",
    "plt.rcParams['figure.dpi'] = 300\n",
    "formatter0 = EngFormatter(unit='Hz')\n",
    "%matplotlib inline"
   ]
  },
  {
   "cell_type": "code",
   "execution_count": 3,
   "metadata": {},
   "outputs": [],
   "source": [
    "file = open(\"data.bin\", \"r\")\n",
    "interleaved_data = np.fromfile(file, np.uint8)\n",
    "file.close()"
   ]
  },
  {
   "cell_type": "code",
   "execution_count": 4,
   "metadata": {},
   "outputs": [],
   "source": [
    "I_data_raw = interleaved_data[0:len(interleaved_data):2]\n",
    "Q_data_raw = interleaved_data[1:len(interleaved_data):2]\n",
    "\n",
    "I_samples = (I_data_raw-127.5)/127.5\n",
    "Q_samples = (Q_data_raw-127.5)/127.5\n",
    "\n",
    "complex_data = I_samples + 1j*Q_samples"
   ]
  },
  {
   "cell_type": "code",
   "execution_count": 5,
   "metadata": {},
   "outputs": [
    {
     "data": {
      "application/vnd.jupyter.widget-view+json": {
       "model_id": "20a4817057a542f98b671fa2eda41150",
       "version_major": 2,
       "version_minor": 0
      },
      "text/plain": [
       "interactive(children=(IntSlider(value=0, description='x', max=25, min=-25), Output()), _dom_classes=('widget-i…"
      ]
     },
     "metadata": {},
     "output_type": "display_data"
    },
    {
     "data": {
      "text/plain": [
       "<function __main__.f(x)>"
      ]
     },
     "execution_count": 5,
     "metadata": {},
     "output_type": "execute_result"
    }
   ],
   "source": [
    "def f(x): \n",
    "    start = 44150 + x\n",
    "    end = 68250\n",
    "    DATA_I = I_samples[start:end]\n",
    "    DATA_Q = Q_samples[start:end]\n",
    "    DATA_mag = np.abs(complex_data)[start:end]\n",
    "    DATA_I = DATA_I / DATA_mag.max()\n",
    "    DATA_Q = DATA_Q / DATA_mag.max()\n",
    "    DATA_signal = DATA_I + 1j*DATA_Q\n",
    "    fs = 2.4E6 #Carrier frequency of SDR\n",
    "    dt = 1/(fs) #Timestep between samples \n",
    "    freq = np.fft.fftfreq(len(DATA_signal),dt)\n",
    "    bins=np.arange(0,len(DATA_signal),1)\n",
    "    t=bins*dt\n",
    "    DATA_SIGNAL_O = np.fft.fft(DATA_signal)\n",
    "    DATA_MAG_O = 10*np.log10(np.abs(DATA_SIGNAL_O))\n",
    "    Δ_Φ = np.diff(np.unwrap((np.angle(DATA_signal[2:227]))))\n",
    "    Δ_f = np.median(Δ_Φ)  / (np.pi*2*dt)  \n",
    "    #print(\" Corse Frequency Offset:\",Δ_f,'Hz')\n",
    "    DATA_signal = DATA_signal*(np.cos(2*np.pi*(-1*Δ_f)*t) + 1j*np.sin(2*np.pi*(-1*Δ_f)*t))\n",
    "    DATA_SIGNAL = np.fft.fft(DATA_signal)\n",
    "    DATA_MAG = 10*np.log10(np.abs(DATA_SIGNAL))\n",
    "    DATA_SIGNAL_ABS = np.fft.fft(np.abs(DATA_signal))\n",
    "    DATA_MAG_ABS = 10*np.log10(np.abs(DATA_SIGNAL_ABS))\n",
    "    DATA_SIGNAL_Φ = np.angle(DATA_SIGNAL_ABS)\n",
    "    #Thus we obtain the frequency of the clock by lDBPSKing for the largest spike above the noise.\n",
    "    Index_max = 800+(DATA_MAG_ABS[800:1200].argmax())\n",
    "    f_clk=freq[Index_max]\n",
    "    freq_δ = np.abs(freq[0]-freq[1])/2\n",
    "    #Now need to obtain the phase of the clock.\n",
    "    # I did this by using the index function which searches the array and returns the bin where that value is located\n",
    "    for i, j in enumerate(freq):\n",
    "        if (f_clk-freq_δ) < j < (f_clk+freq_δ):\n",
    "                freq_bin=(i)\n",
    "    f_clk = freq[freq_bin]\n",
    "    Φ =DATA_SIGNAL_Φ[freq_bin]\n",
    "    #print('Clock Frequency:',f_clk,'Hz')\n",
    "    #print('Φ:',Φ,'radians')\n",
    "    #print('bin:',freq_bin)\n",
    "\n",
    "    Φ = DATA_SIGNAL_Φ[freq_bin]\n",
    "    f = freq[freq_bin]\n",
    "    ω = 2 * np.pi * f\n",
    "    NCO = np.cos((ω*t)+Φ) + 1j*np.sin((ω*t)+Φ)\n",
    "    NCO = NCO * (0.6)\n",
    "    global peak_bins \n",
    "    peak_bins = sp.find_peaks(np.real(NCO))\n",
    "    symbol_data = np.interp(peak_bins[0],bins,DATA_signal)\n",
    "    sym_max = np.abs(symbol_data).max()\n",
    "    global norm_data\n",
    "    norm_data = np.real(symbol_data)/sym_max + 1j*np.imag(symbol_data)/sym_max\n",
    "        \n",
    "    \n",
    "    plt.rcParams['figure.figsize'] = (16,8)\n",
    "    freq_tick = np.arange(-1E8,1E8,200E3)\n",
    "\n",
    "    fig4, ax = plt.subplots(1, 1, figsize=(8, 5), tight_layout=True)\n",
    "    ax.plot(bins,np.abs(DATA_signal),label=\"|Data|\")\n",
    "    ax.plot(bins,np.real(NCO),label=\"Sample Clock\")\n",
    "    ax.set_xlabel(\"Bins\")\n",
    "    ax.set_ylabel(\"Magnitude\")\n",
    "    ax.set_xlim(0,290)\n",
    "    for i in range(10):\n",
    "        b = peak_bins[0][i]\n",
    "        ax.annotate((i+1),(b,np.real(NCO[b])))\n",
    "    ax.legend(loc='upper right')\n",
    "    ax.grid()\n",
    "\n",
    "    fig5, (ax1, ax2) = plt.subplots(1, 2,tight_layout=True)\n",
    "    ax1.scatter(np.real(norm_data),np.imag(norm_data) ,linewidths=0.5,label='Signal')\n",
    "    ax1.set_xlabel(\"In-Phase\")\n",
    "    ax1.set_ylabel(\"Quadrature\")\n",
    "    ax1.set_xlim(-1.1,1.1)\n",
    "    ax1.set_ylim(-1.1,1.1)\n",
    "    ax1.axhline(y=0,c='k')\n",
    "    ax1.axvline(x=0,c='k')\n",
    "    ax1.legend(loc='upper right')\n",
    "    ax1.grid()\n",
    "\n",
    "    ax2.plot(np.abs(norm_data),'b+')\n",
    "    ax2.set_xlabel(\"Bins\")\n",
    "    ax1.set_ylim(-1.2,1.2)\n",
    "    ax2.set_ylabel(\"Normalized Magnitude\")\n",
    "    ax2.grid()\n",
    "widgets.interact(f, x= widgets.IntSlider(value=0,min=-25,max=25,step=1))"
   ]
  },
  {
   "cell_type": "markdown",
   "metadata": {},
   "source": [
    "# Carrier Synchronization DBPSK"
   ]
  },
  {
   "cell_type": "code",
   "execution_count": 6,
   "metadata": {},
   "outputs": [
    {
     "data": {
      "image/png": "[encoded data removed]",
      "text/plain": [
       "<Figure size 1728x576 with 2 Axes>"
      ]
     },
     "metadata": {
      "needs_background": "light"
     },
     "output_type": "display_data"
    }
   ],
   "source": [
    "sd_after=[]\n",
    "p0 = 1 + 1j*0\n",
    "ΔΦ = 0\n",
    "Φ_e = 0\n",
    "\n",
    "Φ_error = []\n",
    "Δ_Φ = []\n",
    "for i in range (len(norm_data)):\n",
    "    sd_after.append(norm_data[i])\n",
    "    if i == 0:\n",
    "        ΔΦ = np.angle(sd_after[i]*np.conj(p0))\n",
    "        Φ_e += ΔΦ\n",
    "    else:\n",
    "        ΔΦ = np.angle(norm_data[i]*np.conj(norm_data[i-1]))\n",
    "        if (np.pi/4) < np.abs(ΔΦ):\n",
    "            Φ_e += (ΔΦ + np.pi)\n",
    "        else:\n",
    "            Φ_e += ΔΦ\n",
    "    sd_after[i] = sd_after[i] * np.e**(-1j*Φ_e)\n",
    "    Φ_error.append(Φ_e)\n",
    "    Δ_Φ.append(ΔΦ)  \n",
    "plt.rcParams['figure.figsize'] = (24,8)\n",
    "f, (ax1, ax2) = plt.subplots(1, 2, sharey=True)\n",
    "ax1.scatter(np.real(norm_data),np.imag(norm_data) ,linewidths=0.5,facecolors='b', edgecolors='b')\n",
    "ax1.set_xlabel(\"In-Phase\") \n",
    "ax1.set_ylabel(\"Quadrature\")\n",
    "ax1.set_title(\"Before\")\n",
    "ax1.set_xlim(-1.1,1.1)\n",
    "ax1.set_ylim(-1.1,1.1)\n",
    "ax1.grid()\n",
    "ax2.scatter(np.real(sd_after),np.imag(sd_after) ,linewidths=0.5,facecolors='r', edgecolors='r')\n",
    "ax2.set_xlabel(\"In-Phase\") \n",
    "ax2.set_ylabel(\"Quadrature\")\n",
    "ax2.set_title(\"After\")\n",
    "ax2.set_xlim(-1.1,1.1)\n",
    "ax2.set_ylim(-1.1,1.1)\n",
    "ax2.grid()\n",
    "plt.show()"
   ]
  },
  {
   "cell_type": "code",
   "execution_count": 7,
   "metadata": {},
   "outputs": [
    {
     "name": "stdout",
     "output_type": "stream",
     "text": [
      "1003\n",
      "994\n",
      "0010001101000010000000001000001110011111011011110000010101011110010010000011011100001000001101000101110000010000110000010001011001011100010100000111110110000100001010110110101010001010000100011110110101000010010000100010110101100010000001110010101010010101110111100010001111000100101100010101011110000010001110000001001011100101001011010011010001011010011000011001010001010001111111010010000110000010010111010101001000000100010111010001001011000001110001111001100110110110001100010000111111011010100100000000000011011000110100110000111000111011010101101011100010110011110111110110101111111001000000110110000111100011101101111001000000011010000010111100011110111100001000100111100010001010100001101000111110101001000110110010000011001101101001010100010010001001011011110011100000000101000001010001001011010001100100101110010000010001001001100111111110011100000000001101111001111000111011001001110101110101111101100001110011100011010010010100111010110010010010011111101000100010000001010111001011\n"
     ]
    }
   ],
   "source": [
    "Δ_Φ = np.abs(np.diff((np.angle(sd_after,deg='True'))))\n",
    "data=[]\n",
    "for i in range(len(Δ_Φ)):\n",
    "    if 100 < Δ_Φ[i] < 260:\n",
    "        data.append('1')\n",
    "    else:\n",
    "        data.append('0')\n",
    "print(len(data))\n",
    "data = ''.join(data[9:])\n",
    "print(len(data))\n",
    "print(data)"
   ]
  },
  {
   "cell_type": "code",
   "execution_count": 6,
   "metadata": {},
   "outputs": [],
   "source": [
    "dic= [(0.00058,'?'),(0.00058,'z'),(0.00075,'q'),(0.0023,'\"'),(0.0012,'j'),(0.0012,'x'),(0.0061,'k'),(0.016,'y'),(0.015,'p'),\n",
    "      (0.012,'b'),(0.055,'i'),(0.053,'n'),(0.050,'s'),(0.048,'h'),(0.047,'r'),(0.100,'e'),(0.019,'m'),(0.019,'w'),(0.018,'f'),\n",
    "      (0.016,'g'),(0.033,'d'),(0.032,'l'),(0.064,'a'),(0.059,'o'),(0.0058,'$'),(0.0058,'^'),(0.0058,','),(0.0058,'\\''),(0.012,'.'),\n",
    "      (0.0077,'v'),(0.022,'c'),(0.022,'u'),(0.071,'t'),(0.17,' ')]"
   ]
  },
  {
   "cell_type": "markdown",
   "metadata": {},
   "source": [
    "# Creating a Tree"
   ]
  },
  {
   "cell_type": "markdown",
   "metadata": {},
   "source": [
    "# Brute Force Method"
   ]
  },
  {
   "cell_type": "code",
   "execution_count": 8,
   "metadata": {},
   "outputs": [],
   "source": [
    "j = 0\n",
    "k = 0\n",
    "message=''\n",
    "for i in range(len(data)):\n",
    "    k=k+1\n",
    "    if (data[j:j+k] == '000'):\n",
    "        message += ' '\n",
    "        j=j+k\n",
    "        k=0\n",
    "    if (data[j:j+k] == '110'):\n",
    "        message += 'e'\n",
    "        j=j+k\n",
    "        k=0\n",
    "    if (data[j:j+k] == '0011'):\n",
    "        message += 't'\n",
    "        j=j+k\n",
    "        k=0\n",
    "    if (data[j:j+k] == '0110'):\n",
    "        message += 'a'\n",
    "        j=j+k\n",
    "        k=0\n",
    "    if (data[j:j+k] == '0111'):\n",
    "        message += 'o'\n",
    "        j=j+k\n",
    "        k=0\n",
    "    if (data[j:j+k] == '1001'):\n",
    "        message += 'i'\n",
    "        j=j+k\n",
    "        k=0\n",
    "    if (data[j:j+k] == '1010'):\n",
    "        message += 'n'\n",
    "        j=j+k\n",
    "        k=0\n",
    "    if (data[j:j+k] == '1011'):\n",
    "        message += 's'\n",
    "        j=j+k\n",
    "        k=0   \n",
    "    if (data[j:j+k] == '1110'):\n",
    "        message += 'h'\n",
    "        j=j+k\n",
    "        k=0\n",
    "    if (data[j:j+k] == '1111'):\n",
    "        message += 'r'\n",
    "        j=j+k\n",
    "        k=0\n",
    "    if (data[j:j+k] == '01001'):\n",
    "        message += 'd'\n",
    "        j=j+k\n",
    "        k=0\n",
    "    if (data[j:j+k] == '01011'):\n",
    "        message += 'l'\n",
    "        j=j+k\n",
    "        k=0   \n",
    "    if (data[j:j+k] == '001001'):\n",
    "        message += 'c'\n",
    "        j=j+k\n",
    "        k=0\n",
    "    if (data[j:j+k] == '001010'):\n",
    "        message += 'u'\n",
    "        j=j+k\n",
    "        k=0  \n",
    "    if (data[j:j+k] == '010000'):\n",
    "        message += 'm'\n",
    "        j=j+k\n",
    "        k=0\n",
    "    if (data[j:j+k] == '010001'):\n",
    "        message += 'w'\n",
    "        j=j+k\n",
    "        k=0\n",
    "    if (data[j:j+k] == '010100'):\n",
    "        message += 'f'\n",
    "        j=j+k\n",
    "        k=0\n",
    "    if (data[j:j+k] == '010101'):\n",
    "        message += 'g'\n",
    "        j=j+k\n",
    "        k=0\n",
    "    if (data[j:j+k] == '100000'):\n",
    "        message += 'y'\n",
    "        j=j+k\n",
    "        k=0\n",
    "    if (data[j:j+k] == '100001'):\n",
    "        message += 'p'\n",
    "        j=j+k\n",
    "        k=0\n",
    "    if (data[j:j+k] == '100011'):\n",
    "        message += 'b'\n",
    "        j=j+k\n",
    "        k=0\n",
    "    if (data[j:j+k] == '0010000'):\n",
    "        message += '.'\n",
    "        j=j+k\n",
    "        k=0\n",
    "    if (data[j:j+k] == '0010111'):\n",
    "        message += 'v'\n",
    "        j=j+k\n",
    "        k=0\n",
    "    if (data[j:j+k] == '1000101'):\n",
    "        message += 'k'\n",
    "        j=j+k\n",
    "        k=0   \n",
    "    if (data[j:j+k] == '00100010'):\n",
    "        message += '$'\n",
    "        j=j+k\n",
    "        k=0\n",
    "    if (data[j:j+k] == '00100011'):\n",
    "        message += '^'\n",
    "        j=j+k\n",
    "        k=0\n",
    "    if (data[j:j+k] == '00101100'):\n",
    "        message += ','\n",
    "        j=j+k\n",
    "        k=0\n",
    "    if (data[j:j+k] == '00101101'):\n",
    "        message += '\\''\n",
    "        j=j+k\n",
    "        k=0\n",
    "    if (data[j:j+k] == '1000010000'):\n",
    "        message += '\\\"'\n",
    "        j=j+k\n",
    "        k=0  \n",
    "    if (data[j:j+k] == '100010010'):\n",
    "        message += 'j'\n",
    "        j=j+k\n",
    "        k=0\n",
    "    if (data[j:j+k] == '100010011'):\n",
    "        message += 'x'\n",
    "        j=j+k\n",
    "        k=0\n",
    "    if (data[j:j+k] == '1000100011'):\n",
    "        message += 'q'\n",
    "        j=j+k\n",
    "        k=0\n",
    "    if (data[j:j+k] == '10001000100'):\n",
    "        message += '?'\n",
    "        j=j+k\n",
    "        k=0\n",
    "    if (data[j:j+k] == '10001000101'):\n",
    "        message += 'z'\n",
    "        j=j+k\n",
    "        k=0"
   ]
  },
  {
   "cell_type": "code",
   "execution_count": 9,
   "metadata": {},
   "outputs": [
    {
     "name": "stdout",
     "output_type": "stream",
     "text": [
      "^my mother used to make me walk the plank when i was younger because we couldn't afford a dog.$hje o rttaet prsfy  aetdpetsgnh,roeesri  ee r her. eyseter wte$n ebhnws.aaeifd iarty n fdabco.wcirho   artetscesnrs otbduolccrn$ uhl\n"
     ]
    }
   ],
   "source": [
    "print(message)"
   ]
  }
 ],
 "metadata": {
  "kernelspec": {
   "display_name": "Python 3",
   "language": "python",
   "name": "python3"
  },
  "language_info": {
   "codemirror_mode": {
    "name": "ipython",
    "version": 3
   },
   "file_extension": ".py",
   "mimetype": "text/x-python",
   "name": "python",
   "nbconvert_exporter": "python",
   "pygments_lexer": "ipython3",
   "version": "3.8.2"
  }
 },
 "nbformat": 4,
 "nbformat_minor": 4
}
