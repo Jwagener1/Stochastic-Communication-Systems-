{
 "cells": [
  {
   "cell_type": "code",
   "execution_count": 1,
   "metadata": {},
   "outputs": [],
   "source": [
    "import numpy as np\n",
    "import matplotlib.pyplot as plt\n",
    "from matplotlib import rc\n",
    "from matplotlib.ticker import EngFormatter\n",
    "from matplotlib.patches import Rectangle\n",
    "import scipy.signal as sp\n",
    "from quantiphy import Quantity\n",
    "rc('font',family='serif')\n",
    "plt.rcParams['figure.figsize'] = (16,9)\n",
    "formatter0 = EngFormatter(unit='Hz')\n",
    "%matplotlib qt5"
   ]
  },
  {
   "cell_type": "code",
   "execution_count": 2,
   "metadata": {},
   "outputs": [],
   "source": [
    "def zoomingBox(ax1, roi, ax2, color='red', linewidth=2):\n",
    "    ax1.add_patch(Rectangle([roi[0],roi[2]], roi[1]-roi[0], roi[3]-roi[2],**dict([('fill',False), ('linestyle','dashed'), ('color',color), ('linewidth',linewidth)]) ))\n",
    "    srcCorners = [[roi[0],roi[2]], [roi[0],roi[3]], [roi[1],roi[2]], [roi[1],roi[3]]]\n",
    "    dstCorners = ax2.get_position().corners()\n",
    "    srcBB = ax1.get_position()\n",
    "    dstBB = ax2.get_position()\n",
    "    if (dstBB.min[0]>srcBB.max[0] and dstBB.max[1]<srcBB.min[1]) or (dstBB.max[0]<srcBB.min[0] and dstBB.min[1]>srcBB.max[1]):\n",
    "        src = [0, 3]; dst = [0, 3]\n",
    "    elif (dstBB.max[0]<srcBB.min[0] and dstBB.max[1]<srcBB.min[1]) or (dstBB.min[0]>srcBB.max[0] and dstBB.min[1]>srcBB.max[1]):\n",
    "        src = [1, 2]; dst = [1, 2]\n",
    "    elif dstBB.max[1] < srcBB.min[1]:\n",
    "        src = [0, 2]; dst = [1, 3]\n",
    "    elif dstBB.min[1] > srcBB.max[1]:\n",
    "        src = [1, 3]; dst = [0, 2]\n",
    "    elif dstBB.max[0] < srcBB.min[0]:\n",
    "        src = [0, 1]; dst = [2, 3]\n",
    "    elif dstBB.min[0] > srcBB.max[0]:\n",
    "        src = [2, 3]; dst = [0, 1]\n",
    "    for k in range(2):\n",
    "        ax1.annotate('', xy=dstCorners[dst[k]], xytext=srcCorners[src[k]], xycoords='figure fraction', textcoords='data', arrowprops=dict([('arrowstyle','-'), ('color',color), ('linewidth',linewidth)]))"
   ]
  },
  {
   "cell_type": "markdown",
   "metadata": {},
   "source": [
    "The code below opens the file and extracts the data from the data.txt file and places it into the interleaved_data variable"
   ]
  },
  {
   "cell_type": "code",
   "execution_count": 3,
   "metadata": {},
   "outputs": [],
   "source": [
    "file = open(\"data.bin\", \"r\")\n",
    "interleaved_data = np.fromfile(file, np.uint8)\n",
    "file.close()"
   ]
  },
  {
   "cell_type": "markdown",
   "metadata": {},
   "source": [
    "# Code from practical 1:\n",
    "This data is then extracted and normalized"
   ]
  },
  {
   "cell_type": "code",
   "execution_count": 4,
   "metadata": {},
   "outputs": [],
   "source": [
    "I_data_raw = interleaved_data[0:len(interleaved_data):2]\n",
    "Q_data_raw = interleaved_data[1:len(interleaved_data):2]\n",
    "\n",
    "I_samples = (I_data_raw-127.5)/127.5\n",
    "Q_samples = (Q_data_raw-127.5)/127.5\n",
    "\n",
    "complex_data = I_samples + 1j*Q_samples\n",
    "complex_data_bins = np.arange(0,len(complex_data),1)"
   ]
  },
  {
   "cell_type": "markdown",
   "metadata": {},
   "source": [
    "This defines the start and stop bins and splices the data into DATA_I and DATA_Q. This data is then normalized and placed into the variable DATA_signal"
   ]
  },
  {
   "cell_type": "code",
   "execution_count": 5,
   "metadata": {},
   "outputs": [],
   "source": [
    "start = 73677\n",
    "end = 99697\n",
    "DATA_I = I_samples[start:end]\n",
    "DATA_Q = Q_samples[start:end]\n",
    "DATA_mag = np.abs(complex_data)[start:end]\n",
    "DATA_I = DATA_I / DATA_mag.max()\n",
    "DATA_Q = DATA_Q / DATA_mag.max()\n",
    "DATA_signal = DATA_I + 1j*DATA_Q"
   ]
  },
  {
   "cell_type": "markdown",
   "metadata": {},
   "source": [
    "The code in the cell below plot the magnitude of the spliced data, this done using the abs() function from numpy. This is done to veryify that the correct data is being spliced."
   ]
  },
  {
   "cell_type": "code",
   "execution_count": 6,
   "metadata": {},
   "outputs": [],
   "source": [
    "plt.figure(1)\n",
    "plt.plot(complex_data_bins,np.abs(complex_data),label = '|Spliced Data|')\n",
    "plt.plot(complex_data_bins[start-20:end+20],np.abs(complex_data[start-20:end+20]),label = '|Data|')\n",
    "plt.xlabel(\"Time Bins\")\n",
    "plt.ylabel(\"Normalized Amplitude\")\n",
    "plt.legend(loc='upper right')\n",
    "plt.grid()\n",
    "plt.show()\n",
    "\n",
    "plt.rcParams['figure.figsize'] = (9,9)\n",
    "plt.figure(2)\n",
    "plt.scatter(np.real(DATA_signal), np.imag(DATA_signal),facecolors='none', edgecolors='r',label='data') \n",
    "plt.xlabel(\"In-Phase\") \n",
    "plt.ylabel(\"Quadrature\")\n",
    "plt.legend(loc='upper right')\n",
    "plt.grid()\n",
    "plt.show()\n",
    "plt.rcParams['figure.figsize'] = (16,9)"
   ]
  },
  {
   "cell_type": "markdown",
   "metadata": {},
   "source": [
    "Time and frequency arrays are created from knowing that the carrier freqency is 1.3 GHz."
   ]
  },
  {
   "cell_type": "code",
   "execution_count": 7,
   "metadata": {},
   "outputs": [],
   "source": [
    "fs = 2.4E6 #Carrier frequency of SDR\n",
    "dt = 1/(fs) #Timestep between samples \n",
    "freq = np.fft.fftfreq(len(DATA_signal),dt)\n",
    "bins=np.arange(0,len(DATA_signal),1)\n",
    "t=bins*dt"
   ]
  },
  {
   "cell_type": "markdown",
   "metadata": {},
   "source": [
    "The code found below plots the scatter plot of the data with the freqency offset that is corrected.\n",
    "\n",
    "Since it is given that the first 10 symbols of the signal are used for syncroization and contain no information it is possible to do a corse frequency offset corrrection by obtaining the median between the phase differnece of these samples\n",
    "\n",
    "$$ \\Delta\\Phi = \\Phi_{2} - \\Phi_{1}$$\n",
    "since we know that the $\\Delta\\Phi$ is related to $\\Delta f$ by the following equation,\n",
    "$$\\Delta f = \\frac{median(\\Delta\\Phi)}{2 \\pi \\Delta t} $$\n"
   ]
  },
  {
   "cell_type": "code",
   "execution_count": 8,
   "metadata": {},
   "outputs": [
    {
     "name": "stdout",
     "output_type": "stream",
     "text": [
      " Corse Frequency Offset: -90.722 Hz\n"
     ]
    }
   ],
   "source": [
    "DATA_SIGNAL_O = np.fft.fft(DATA_signal)\n",
    "DATA_MAG_O = 10*np.log10(np.abs(DATA_SIGNAL_O))\n",
    "Δ_Φ = np.diff(np.unwrap((np.angle(DATA_signal[2:227]))))\n",
    "Δ_f = np.median(Δ_Φ)  / (np.pi*2*dt)\n",
    "print(\" Corse Frequency Offset:\",Quantity(Δ_f,'Hz'))"
   ]
  },
  {
   "cell_type": "markdown",
   "metadata": {},
   "source": [
    "Once one has aquired $\\Delta f$ in order to correct the freqency offset one needs to multiply by a complex sinusoide in order to correct the offset this is done acording to the equation below\n",
    "\n",
    "$$ s(t) \\cdot e^{j(\\omega_{c}+\\omega_{o})\\cdot t} \\cdot e^{-j\\omega_{o}} $$\n",
    "\n",
    "where $\\omega_{o}$ is the offset and $\\omega_{c}$ is the carrier thus the following result is obtained\n",
    "\n",
    "$$ s(t) \\cdot e^{j(\\omega_{c}+\\omega_{o} - \\omega_{o})\\cdot t} $$\n",
    "\n",
    "$$ s(t) \\cdot e^{j(\\omega_{c})t} $$\n"
   ]
  },
  {
   "cell_type": "code",
   "execution_count": 9,
   "metadata": {},
   "outputs": [],
   "source": [
    "DATA_signal = DATA_signal*(np.cos(2*np.pi*(-1*Δ_f)*t) + \n",
    "                           1j*np.sin(2*np.pi*(-1*Δ_f)*t))"
   ]
  },
  {
   "cell_type": "markdown",
   "metadata": {},
   "source": [
    "The code in the cell below computes the FFT of the now freqency corrected data signal."
   ]
  },
  {
   "cell_type": "code",
   "execution_count": 10,
   "metadata": {},
   "outputs": [],
   "source": [
    "DATA_SIGNAL = np.fft.fft(DATA_signal)\n",
    "DATA_MAG = 10*np.log10(np.abs(DATA_SIGNAL))\n",
    "DATA_SIGNAL_ABS = np.fft.fft(np.abs(DATA_signal))\n",
    "DATA_MAG_ABS = 10*np.log10(np.abs(DATA_SIGNAL_ABS))\n",
    "DATA_SIGNAL_Φ = np.angle(DATA_SIGNAL_ABS)"
   ]
  },
  {
   "cell_type": "code",
   "execution_count": 11,
   "metadata": {},
   "outputs": [],
   "source": [
    "freq_tick = np.arange(-1E8,1E8,200E3)\n",
    "\n",
    "fig2, ax = plt.subplots(1, 1)\n",
    "ax.xaxis.set_major_formatter(formatter0)\n",
    "ax.set_xticks(freq_tick)\n",
    "\n",
    "ax.plot(freq,DATA_MAG_O,label=\"Before\")\n",
    "ax.plot(freq,DATA_MAG,label=\"After\")\n",
    "\n",
    "ax.set_xlabel(\"Frequency (Hz)\")\n",
    "ax.set_ylabel(\"Magnitude (dB)\")\n",
    "\n",
    "ax.set_ylim(0,40)\n",
    "ax.set_xlim(min(freq),max(freq))\n",
    "\n",
    "ax.annotate(\"\", xy=(0, 30), xycoords='data',xytext=(Δ_f,30), textcoords='data',arrowprops=dict(arrowstyle=\"<->\",connectionstyle=\"arc3\"),)\n",
    "ax.annotate(Quantity(Δ_f,'Hz'),xy=(0,0), xycoords='data',xytext=(Δ_f/3,30.5), textcoords='data')\n",
    "ax.legend(loc='upper right')\n",
    "ax.grid()"
   ]
  },
  {
   "cell_type": "markdown",
   "metadata": {},
   "source": [
    "The recived data now needs to be downsampled this means that the data only contains symbols at certain increments and thus we need to obtain the frequency and phase of the ogrinal sampling clock in order to reproduce the the sampling clock and syncronise with the symbols.\n",
    "<br>\n",
    "This is done by taking the DFT|data| by taking the DFT of the absolute one removes the frequency and phase offset.\n",
    "<br>\n",
    "Since it is provided that the system has a symbol rate of around 100,000 symbols per second then a large oberservable spike should accour at around that point.\n",
    "<br>\n",
    "*[Note] It is not at exactly 100 kHz because there is error in the local oscilator in the SDR, therefore it does not match up exactly"
   ]
  },
  {
   "cell_type": "code",
   "execution_count": 12,
   "metadata": {},
   "outputs": [],
   "source": [
    "Index_max = 800+(DATA_MAG_ABS[800:2500].argmax())\n",
    "freq_tick = np.arange(0,600E3,50E3)\n",
    "  \n",
    "fig3, (ax1, ax2) = plt.subplots(2, 1,tight_layout=True)\n",
    "ax1.plot(freq[:len(freq)//10],DATA_MAG_ABS[:len(freq)//10],label='DFT|DATA|')\n",
    "ax1.xaxis.set_major_formatter(formatter0)\n",
    "ax1.set_xticks(freq_tick)\n",
    "ax1.set_ylabel(\"Magnitude (dB)\")\n",
    "ax1.set_ylim(0,max(DATA_MAG_ABS))\n",
    "ax1.set_xlim(0,max(freq[len(freq)//10-1:len(freq)//10]))\n",
    "ax1.legend(loc='upper right')\n",
    "ax1.grid()\n",
    "ax2.xaxis.set_major_formatter(formatter0)\n",
    "ax2.plot(freq[Index_max-50:Index_max+50],DATA_MAG_ABS[Index_max-50:Index_max+50])\n",
    "ax2.annotate(Quantity(freq[Index_max],'Hz'),xy=(freq[Index_max],DATA_MAG_ABS[Index_max]-1), xycoords='data',xytext=(freq[Index_max]+50,DATA_MAG_ABS[Index_max]-1), textcoords='data')\n",
    "ax2.set_xlabel(\"Frequency\")\n",
    "ax2.set_ylabel(\"Magnitude (dB)\")\n",
    "ax2.grid()\n",
    "zoomingBox(ax1, [freq[Index_max-50],freq[Index_max+50],0,DATA_MAG_ABS[Index_max]], ax2)"
   ]
  },
  {
   "cell_type": "markdown",
   "metadata": {},
   "source": [
    "Once the frequency spike(which represents the data) is located one may also optain the $\\Phi_{clock}$ by the following equation\n",
    "$$\\Phi_{clock} = tan^{-1}(Q/I)$$ where Q and I are the compents at the freqency spike."
   ]
  },
  {
   "cell_type": "code",
   "execution_count": 13,
   "metadata": {},
   "outputs": [
    {
     "name": "stdout",
     "output_type": "stream",
     "text": [
      "Clock Frequency: 99.983 kHz\n",
      "Φ: -2.1505 rad\n"
     ]
    }
   ],
   "source": [
    "f_clk=freq[Index_max]\n",
    "freq_δ = np.abs(freq[0]-freq[1])/2\n",
    "#Now need to obtain the phase of the clock.\n",
    "# I did this by using the index function which searches the array and returns the bin where that value is located\n",
    "for i, j in enumerate(freq):\n",
    "    if (f_clk-freq_δ) < j < (f_clk+freq_δ):\n",
    "            freq_bin=(i)\n",
    "Φ = DATA_SIGNAL_Φ[freq_bin]\n",
    "f = freq[freq_bin]\n",
    "print('Clock Frequency:',Quantity(f,'Hz'))\n",
    "print('Φ:',Quantity(Φ,'rad'))"
   ]
  },
  {
   "cell_type": "code",
   "execution_count": 14,
   "metadata": {},
   "outputs": [],
   "source": [
    "ω = 2 * np.pi * f\n",
    "NCO = np.cos((ω*t)+Φ) + 1j*np.sin((ω*t)+Φ)\n",
    "NCO = NCO * (0.6)\n",
    "global peak_bins \n",
    "peak_bins = sp.find_peaks(np.real(NCO))\n",
    "symbol_data = np.interp(peak_bins[0],bins,DATA_signal)\n",
    "sym_max = np.abs(symbol_data).max()\n",
    "global norm_data\n",
    "norm_data = np.real(symbol_data)/sym_max + 1j*np.imag(symbol_data)/sym_max"
   ]
  },
  {
   "cell_type": "markdown",
   "metadata": {},
   "source": [
    "The functions below plot the Conseltation diagram for the down sampled date as well as the clock cosine signal, with 10 peaks to corfrim the correct sampling rate is obtained."
   ]
  },
  {
   "cell_type": "code",
   "execution_count": 15,
   "metadata": {},
   "outputs": [],
   "source": [
    "freq_tick = np.arange(-1E8,1E8,200E3)\n",
    "\n",
    "fig4, ax = plt.subplots(1, 1, tight_layout=True)\n",
    "ax.plot(bins,np.abs(DATA_signal),label=\"|Data|\")\n",
    "ax.plot(bins,np.real(NCO),label=\"Sample Clock\")\n",
    "ax.set_xlabel(\"Bins\")\n",
    "ax.set_ylabel(\"Magnitude\")\n",
    "ax.set_xlim(0,290)\n",
    "for i in range(10):\n",
    "    b = peak_bins[0][i]\n",
    "    ax.annotate((i+1),(b,np.real(NCO[b])))\n",
    "ax.legend(loc='upper right')\n",
    "ax.grid()\n",
    "\n",
    "fig5, (ax1, ax2) = plt.subplots(1, 2,tight_layout=True)\n",
    "ax1.scatter(np.real(norm_data),np.imag(norm_data) ,linewidths=0.5,label='Signal')\n",
    "ax1.set_xlabel(\"In-Phase\")\n",
    "ax1.set_ylabel(\"Quadrature\")\n",
    "ax1.set_xlim(-1.1,1.1)\n",
    "ax1.set_ylim(-1.1,1.1)\n",
    "ax1.axhline(y=0,c='k')\n",
    "ax1.axvline(x=0,c='k')\n",
    "ax1.legend(loc='upper right')\n",
    "ax1.grid()\n",
    "\n",
    "ax2.plot(np.abs(norm_data),'b+')\n",
    "ax2.set_xlabel(\"Bins\")\n",
    "ax2.set_ylim(-1.2,1.2)\n",
    "ax2.set_ylabel(\"Normalized Magnitude\")\n",
    "ax2.grid()"
   ]
  },
  {
   "cell_type": "markdown",
   "metadata": {},
   "source": [
    "# code from practical 2:\n",
    "Below is code from a practical 2 which implemnts a 'smart' phase lock loop\n",
    "<br>\n",
    "This is done by first synconusing the data with the first 10 samples as they only contain the carrier signal.\n",
    "<br>\n",
    "Once this synconization has been completed the phase error is calcualted and added to an on going error variable.\n",
    "<br>\n",
    "This vaiable is used to correct the phase by multiplying the next sample point with this error then computing the differnece and updating the error.\n"
   ]
  },
  {
   "cell_type": "code",
   "execution_count": 16,
   "metadata": {},
   "outputs": [],
   "source": [
    "sd_after=[]\n",
    "p0 = 1 + 1j*0\n",
    "ΔΦ = 0\n",
    "Φ_e = 0\n",
    "\n",
    "Φ_error = []\n",
    "Δ_Φ = []\n",
    "for i in range (len(norm_data)):\n",
    "    sd_after.append(norm_data[i])\n",
    "    if i == 0:\n",
    "        ΔΦ = np.angle(sd_after[i]*np.conj(p0))\n",
    "        Φ_e += ΔΦ\n",
    "    else:\n",
    "        ΔΦ = np.angle(norm_data[i]*np.conj(norm_data[i-1]))\n",
    "        if (np.pi/4) < np.abs(ΔΦ):\n",
    "            Φ_e += (ΔΦ + np.pi)\n",
    "        else:\n",
    "            Φ_e += ΔΦ\n",
    "    sd_after[i] = sd_after[i] * np.e**(-1j*Φ_e)\n",
    "    Φ_error.append(Φ_e)\n",
    "    Δ_Φ.append(ΔΦ)  \n",
    "\n",
    "f, (ax1, ax2) = plt.subplots(1, 2, sharey=True)\n",
    "ax1.scatter(np.real(norm_data),np.imag(norm_data) ,linewidths=0.5,facecolors='b', edgecolors='b')\n",
    "ax1.set_xlabel(\"In-Phase\") \n",
    "ax1.set_ylabel(\"Quadrature\")\n",
    "ax1.set_title(\"Before\")\n",
    "ax1.set_xlim(-1.1,1.1)\n",
    "ax1.set_ylim(-1.1,1.1)\n",
    "ax1.grid()\n",
    "ax2.scatter(np.real(sd_after),np.imag(sd_after) ,linewidths=0.5,facecolors='r', edgecolors='r')\n",
    "ax2.set_xlabel(\"In-Phase\") \n",
    "ax2.set_ylabel(\"Quadrature\")\n",
    "ax2.set_title(\"After\")\n",
    "ax2.set_xlim(-1.1,1.1)\n",
    "ax2.set_ylim(-1.1,1.1)\n",
    "ax2.grid()\n",
    "plt.show()"
   ]
  },
  {
   "cell_type": "markdown",
   "metadata": {},
   "source": [
    "The code below extracts the data from the phase differnce between samples\n",
    "\n",
    " $$  Data_{[n]} =   \\left\\{\n",
    "\\begin{array}{ll}\n",
    "      100 < \\Delta \\Phi < 260 &: 1 \\\\\n",
    "      else &: 0 \\\\\n",
    "\\end{array} \n",
    "\\right.  $$\n",
    "\n",
    "The data array is append acording to the above piecewise function."
   ]
  },
  {
   "cell_type": "code",
   "execution_count": 17,
   "metadata": {},
   "outputs": [],
   "source": [
    "Δ_Φ = np.abs(np.diff((np.angle(sd_after,deg='True'))))\n",
    "data=[]\n",
    "for i in range(len(Δ_Φ)):\n",
    "    if 100 < Δ_Φ[i] < 260:\n",
    "        data.append('1')\n",
    "    else:\n",
    "        data.append('0')\n",
    "data = ''.join(data[9:]) #Strip the first 9 samples of data off as these only contain the carrier and no acctual data"
   ]
  },
  {
   "cell_type": "markdown",
   "metadata": {},
   "source": [
    "# Prac 3 code"
   ]
  },
  {
   "cell_type": "code",
   "execution_count": null,
   "metadata": {},
   "outputs": [],
   "source": [
    "G = np.matrix([[1,0,0,0,1,1],\n",
    "               [0,1,0,1,0,1],\n",
    "               [0,0,1,1,1,1]])\n",
    "print(G)\n",
    "\n",
    "H = np.matrix([[0,1,1,1,0,0],\n",
    "               [1,0,1,0,1,0],\n",
    "               [1,1,1,0,0,1]])\n",
    "HT = np.transpose(H)\n",
    "print(H)\n",
    "print('')\n",
    "print(HT)\n",
    "\n",
    "E = np.matrix([[0,0,0,0,0,0],\n",
    "               [1,0,0,0,0,0],\n",
    "               [0,1,0,0,0,0],\n",
    "               [0,0,1,0,0,0],\n",
    "               [0,0,0,1,0,0],\n",
    "               [0,0,0,0,1,0],\n",
    "               [0,0,0,0,0,1],\n",
    "               [0,0,0,1,1,0]])\n",
    "Syndrome = np.mod((E@HT),2)\n",
    "for i in range (8):\n",
    "    print(E[i],Syndrome[i])"
   ]
  },
  {
   "cell_type": "markdown",
   "metadata": {},
   "source": [
    "Correction code"
   ]
  },
  {
   "cell_type": "code",
   "execution_count": null,
   "metadata": {},
   "outputs": [],
   "source": [
    "corrected=[]\n",
    "for i in range(178):\n",
    "    r = data[(i*6):(i+1)*6]\n",
    "    syn = np.mod((r@HT),2)\n",
    "    for j in range(8):\n",
    "        if (np.array_equal(syn,Syndrome[j])):\n",
    "            e = E[j]\n",
    "            if (j !=0):\n",
    "    c = r^e\n",
    "    #print((r*1),(syn*1),(e*1),c*1)\n",
    "    for k in range(3):\n",
    "        if (c[0,k] == 1):\n",
    "            corrected.append('1')\n",
    "        else:\n",
    "            corrected.append('0')"
   ]
  },
  {
   "cell_type": "markdown",
   "metadata": {},
   "source": [
    "# Practical 2 code:"
   ]
  },
  {
   "cell_type": "code",
   "execution_count": null,
   "metadata": {},
   "outputs": [],
   "source": [
    "corrected = ''.join(corrected)\n",
    "message = \"\"\n",
    "for i in  range(0,(67*8),8):\n",
    "    temp_data = corrected[i:i + 8]\n",
    "    #print(temp_data)\n",
    "    decimal_data = int(temp_data, 2) \n",
    "    message = message + chr(decimal_data)\n",
    "print(message)"
   ]
  }
 ],
 "metadata": {
  "kernelspec": {
   "display_name": "Python 3",
   "language": "python",
   "name": "python3"
  },
  "language_info": {
   "codemirror_mode": {
    "name": "ipython",
    "version": 3
   },
   "file_extension": ".py",
   "mimetype": "text/x-python",
   "name": "python",
   "nbconvert_exporter": "python",
   "pygments_lexer": "ipython3",
   "version": "3.8.2"
  }
 },
 "nbformat": 4,
 "nbformat_minor": 4
}
