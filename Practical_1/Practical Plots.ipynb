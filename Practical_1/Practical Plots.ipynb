{
 "cells": [
  {
   "cell_type": "code",
   "execution_count": 4,
   "metadata": {},
   "outputs": [],
   "source": [
    "import matplotlib.pyplot as plt\n",
    "import numpy as np\n",
    "from scipy import signal\n",
    "%matplotlib qt5"
   ]
  },
  {
   "cell_type": "code",
   "execution_count": 35,
   "metadata": {},
   "outputs": [],
   "source": [
    "f = 10\n",
    "dt = 1/(100) #Timestep between samples \n",
    "bins=np.arange(0,100,dt)\n",
    "t=bins*dt\n",
    "data = signal.square(2 * np.pi * f * t,duty=0.5)\n",
    "data = (data + 1)/2\n",
    "carrier = np.cos(2*np.pi*f*10*t)\n",
    "\n",
    "mod_signal = (data*carrier)\n",
    "mod_signal = (mod_signal+1)/2\n",
    "\n",
    "plt.figure(1)\n",
    "plt.tight_layout()\n",
    "plt.plot(mod_signal,'r',label = 'Modulated signal')\n",
    "plt.plot(data,'b',label = 'Binary data')\n",
    "plt.legend(loc='upper right')\n",
    "plt.ylabel('Magnitude')\n",
    "plt.xlabel('Time')\n",
    "plt.title('Example of OOK')\n",
    "plt.grid()\n",
    "plt.show()"
   ]
  }
 ],
 "metadata": {
  "kernelspec": {
   "display_name": "Python 3",
   "language": "python",
   "name": "python3"
  },
  "language_info": {
   "codemirror_mode": {
    "name": "ipython",
    "version": 3
   },
   "file_extension": ".py",
   "mimetype": "text/x-python",
   "name": "python",
   "nbconvert_exporter": "python",
   "pygments_lexer": "ipython3",
   "version": "3.8.2"
  }
 },
 "nbformat": 4,
 "nbformat_minor": 4
}
