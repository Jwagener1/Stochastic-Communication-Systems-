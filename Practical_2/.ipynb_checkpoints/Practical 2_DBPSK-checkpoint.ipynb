{
 "cells": [
  {
   "cell_type": "code",
   "execution_count": 13,
   "metadata": {},
   "outputs": [],
   "source": [
    "import numpy as np\n",
    "import matplotlib.pyplot as plt\n",
    "from matplotlib import rc\n",
    "from matplotlib.ticker import EngFormatter\n",
    "import scipy.signal as sp\n",
    "from ipywidgets import interact, interactive, fixed, interact_manual\n",
    "import ipywidgets as wid\n",
    "%matplotlib inline\n",
    "plt.rcParams['figure.figsize'] = (4,4)\n",
    "plt.rcParams['figure.dpi'] = 100"
   ]
  },
  {
   "cell_type": "code",
   "execution_count": 14,
   "metadata": {},
   "outputs": [],
   "source": [
    "formatter0 = EngFormatter(unit='Hz')\n",
    "rc('font',family='serif')\n",
    "plt.rcParams['figure.figsize'] = (6,3)\n",
    "plt.rcParams['figure.dpi'] = 150"
   ]
  },
  {
   "cell_type": "code",
   "execution_count": 15,
   "metadata": {},
   "outputs": [],
   "source": [
    "file = open(\"data.bin\", \"r\")\n",
    "interleaved_data = np.fromfile(file, np.uint8)\n",
    "file.close()"
   ]
  },
  {
   "cell_type": "code",
   "execution_count": 16,
   "metadata": {},
   "outputs": [],
   "source": [
    "I_data_raw = interleaved_data[0:len(interleaved_data):2]\n",
    "Q_data_raw = interleaved_data[1:len(interleaved_data):2]\n",
    "\n",
    "I_samples = (I_data_raw-127.5)/127.5\n",
    "Q_samples = (Q_data_raw-127.5)/127.5\n",
    "\n",
    "complex_data = I_samples + 1j*Q_samples"
   ]
  },
  {
   "cell_type": "code",
   "execution_count": 22,
   "metadata": {},
   "outputs": [
    {
     "data": {
      "application/vnd.jupyter.widget-view+json": {
       "model_id": "bd2e16d118fb4b99a7fdc4bcc0a0440d",
       "version_major": 2,
       "version_minor": 0
      },
      "text/plain": [
       "interactive(children=(FloatSlider(value=0.0, description='x', max=1.0), Output()), _dom_classes=('widget-inter…"
      ]
     },
     "metadata": {},
     "output_type": "display_data"
    },
    {
     "data": {
      "text/plain": [
       "<function __main__.f(x)>"
      ]
     },
     "execution_count": 22,
     "metadata": {},
     "output_type": "execute_result"
    }
   ],
   "source": [
    "def f(x): \n",
    "    start = 127719\n",
    "    end = 150600\n",
    "    DATA_I = I_samples[start:end]\n",
    "    DATA_Q = Q_samples[start:end]\n",
    "    DATA_mag = np.abs(complex_data)[start:end]\n",
    "    DATA_I = DATA_I / DATA_mag.max()\n",
    "    DATA_Q = DATA_Q / DATA_mag.max()\n",
    "    DATA_signal = DATA_I + 1j*DATA_Q\n",
    "    fs = 2.4E6 #Carrier frequency of SDR\n",
    "    dt = 1/(fs) #Timestep between samples \n",
    "    freq = np.fft.fftfreq(len(DATA_signal),dt)\n",
    "    bins=np.arange(0,len(DATA_signal),1)\n",
    "    t=bins*dt\n",
    "    DATA_SIGNAL_O = np.fft.fft(DATA_signal)\n",
    "    DATA_MAG_O = 10*np.log10(np.abs(DATA_SIGNAL_O))\n",
    "    Δ_Φ = np.diff(np.unwrap((np.angle(DATA_signal[2:227]))))\n",
    "    Δ_f = np.median(Δ_Φ)  / (np.pi*2*dt)  \n",
    "    print(\" Corse Frequency Offset:\",Δ_f,'Hz')\n",
    "    DATA_signal = DATA_signal*(np.cos(2*np.pi*(-1*Δ_f)*t) + 1j*np.sin(2*np.pi*(-1*Δ_f)*t))\n",
    "    DATA_SIGNAL = np.fft.fft(DATA_signal)\n",
    "    DATA_MAG = 10*np.log10(np.abs(DATA_SIGNAL))\n",
    "    DATA_SIGNAL_ABS = np.fft.fft(np.abs(DATA_signal))\n",
    "    DATA_MAG_ABS = 10*np.log10(np.abs(DATA_SIGNAL_ABS))\n",
    "    DATA_SIGNAL_Φ = np.angle(DATA_SIGNAL_ABS)\n",
    "    #Thus we obtain the frequency of the clock by lDBPSKing for the largest spike above the noise.\n",
    "    Index_max = 800+(DATA_MAG_ABS[800:1200].argmax())\n",
    "    f_clk=freq[Index_max]\n",
    "    freq_δ = np.abs(freq[0]-freq[1])/2\n",
    "    #Now need to obtain the phase of the clock.\n",
    "    # I did this by using the index function which searches the array and returns the bin where that value is located\n",
    "    for i, j in enumerate(freq):\n",
    "        if (f_clk-freq_δ) < j < (f_clk+freq_δ):\n",
    "                freq_bin=(i)\n",
    "    f_clk = freq[freq_bin]\n",
    "    Φ =DATA_SIGNAL_Φ[freq_bin]\n",
    "    print('Clock Frequency:',f_clk,'Hz')\n",
    "    print('Φ:',Φ,'radians')\n",
    "    print('bin:',freq_bin)\n",
    "\n",
    "    Φ = DATA_SIGNAL_Φ[freq_bin]\n",
    "    f = freq[freq_bin]\n",
    "    ω = 2 * np.pi * f\n",
    "    NCO = np.cos((ω*t)+Φ) + 1j*np.sin((ω*t)+Φ)\n",
    "    NCO = NCO * (0.6)\n",
    "    global peak_bins \n",
    "    peak_bins = sp.find_peaks(np.real(NCO))\n",
    "    symbol_data = []\n",
    "    for k in peak_bins[0]:\n",
    "        symbol_data.append(DATA_signal[k])\n",
    "    sym_max = np.abs(symbol_data).max()\n",
    "    global norm_data\n",
    "    norm_data = np.real(symbol_data)/sym_max + 1j*np.imag(symbol_data)/sym_max\n",
    "        \n",
    "    \n",
    "    \n",
    "    plt.figure(1)\n",
    "    plt.plot(bins,np.abs(DATA_signal))\n",
    "    plt.plot(bins,np.real(NCO))\n",
    "    plt.xlim(0,290)\n",
    "    plt.grid()\n",
    "    plt.show()\n",
    "    \n",
    "    \n",
    "    plt.figure(2)\n",
    "    plt.plot(np.abs(norm_data),'r+')\n",
    "    plt.ylim(0,np.abs(norm_data).max())\n",
    "    plt.grid()\n",
    "    plt.show()\n",
    "    \n",
    "    plt.figure(3)\n",
    "    plt.scatter(np.real(norm_data),np.imag(norm_data) ,linewidths=0.5,facecolors='none', edgecolors='b')\n",
    "    plt.xlabel(\"In-Phase\") \n",
    "    plt.ylabel(\"Quadrature\")\n",
    "    plt.title(\"DBPSK: Scatter plot, downsampled\")\n",
    "    plt.grid()\n",
    "    plt.show()\n",
    "    \n",
    "    plt.figure(4)\n",
    "    plt.plot(np.unwrap(np.angle(norm_data)))\n",
    "    plt.grid()\n",
    "    plt.show()\n",
    "interact(f,x=(0,1,0.1))"
   ]
  },
  {
   "cell_type": "markdown",
   "metadata": {},
   "source": [
    "# Carrier Synchronization DBPSK"
   ]
  },
  {
   "cell_type": "code",
   "execution_count": 65,
   "metadata": {},
   "outputs": [
    {
     "data": {
      "image/png": "[encoded data removed]",
      "text/plain": [
       "<Figure size 900x450 with 2 Axes>"
      ]
     },
     "metadata": {
      "needs_background": "light"
     },
     "output_type": "display_data"
    }
   ],
   "source": [
    "sd_after=[]\n",
    "p0 = 1 + 1j*0\n",
    "ΔΦ = 0\n",
    "Φ_e = 0\n",
    "\n",
    "Φ_error = []\n",
    "Δ_Φ = []\n",
    "for i in range (len(norm_data)):\n",
    "    sd_after.append(norm_data[i])\n",
    "    if i == 0:\n",
    "        ΔΦ = np.angle(sd_after[i]*np.conj(p0))\n",
    "        Φ_e += ΔΦ\n",
    "    else:\n",
    "        ΔΦ = np.angle(norm_data[i]*np.conj(norm_data[i-1]))\n",
    "        if (np.pi/4) < np.abs(ΔΦ):\n",
    "            Φ_e += (ΔΦ + np.pi)\n",
    "        else:\n",
    "            Φ_e += ΔΦ\n",
    "    sd_after[i] = sd_after[i] * np.e**(-1j*Φ_e)\n",
    "    Φ_error.append(Φ_e)\n",
    "    Δ_Φ.append(ΔΦ)   \n",
    "f, (ax1, ax2) = plt.subplots(1, 2, sharey=True)\n",
    "ax1.scatter(np.real(norm_data),np.imag(norm_data) ,linewidths=0.5,facecolors='b', edgecolors='b')\n",
    "ax1.set_xlabel(\"In-Phase\") \n",
    "ax1.set_ylabel(\"Quadrature\")\n",
    "ax1.set_title(\"Before\")\n",
    "ax1.set_xlim(-1.1,1.1)\n",
    "ax1.set_ylim(-1.1,1.1)\n",
    "ax1.grid()\n",
    "ax2.scatter(np.real(sd_after),np.imag(sd_after) ,linewidths=0.5,facecolors='r', edgecolors='r')\n",
    "ax2.set_xlabel(\"In-Phase\") \n",
    "ax2.set_ylabel(\"Quadrature\")\n",
    "ax2.set_title(\"After\")\n",
    "ax2.set_xlim(-1.1,1.1)\n",
    "ax2.set_ylim(-1.1,1.1)\n",
    "ax2.grid()\n",
    "plt.show()"
   ]
  }
 ],
 "metadata": {
  "kernelspec": {
   "display_name": "Python 3",
   "language": "python",
   "name": "python3"
  },
  "language_info": {
   "codemirror_mode": {
    "name": "ipython",
    "version": 3
   },
   "file_extension": ".py",
   "mimetype": "text/x-python",
   "name": "python",
   "nbconvert_exporter": "python",
   "pygments_lexer": "ipython3",
   "version": "3.8.2"
  }
 },
 "nbformat": 4,
 "nbformat_minor": 4
}
