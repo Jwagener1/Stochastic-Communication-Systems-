{
 "cells": [
  {
   "cell_type": "code",
   "execution_count": 17,
   "metadata": {},
   "outputs": [],
   "source": [
    "import numpy as np\n",
    "import matplotlib.pyplot as plt\n",
    "from matplotlib import rc\n",
    "from cycler import cycler\n",
    "rc('font',family='serif')\n",
    "plt.rcParams['axes.prop_cycle'] = cycler(color='bgrcmyk')\n",
    "%matplotlib qt5 \n",
    "\n",
    "\n",
    "f_sample = 80\n",
    "f = 1\n",
    "dt = 1/(2*f_sample)\n",
    "t = np.arange(0,10,dt)\n",
    "signal_in = np.exp(1j*2*np.pi*1.5*t)\n",
    "\n",
    "\n",
    "α = 0.01*f\n",
    "β = 0.5*(α**2)\n",
    "\n",
    "diff=[]\n",
    "\n",
    "ϕ_out = 3.0\n",
    "f_out = 0\n",
    "\n",
    "length = len(signal_in)\n",
    "\n",
    "for i in range(length):\n",
    "    NCO = np.exp(1j*(ϕ_out*t))\n",
    "    ΔΦ = np.angle(signal_in[i]*np.conj(NCO[i]))\n",
    "    ϕ_out += α * ΔΦ\n",
    "    f_out += β * ΔΦ \n",
    "    ϕ_out += f_out\n",
    "    diff.append(ΔΦ)            \n",
    "plt.figure(1)\n",
    "plt.plot(t,np.real(signal_in))\n",
    "plt.plot(t,np.real(NCO))                \n",
    "plt.grid()\n",
    "plt.show()\n",
    "                 \n",
    "plt.figure(2)\n",
    "plt.plot(diff)                \n",
    "plt.grid()\n",
    "plt.show()"
   ]
  },
  {
   "cell_type": "code",
   "execution_count": 19,
   "metadata": {},
   "outputs": [],
   "source": [
    "ϕ_out = 0\n",
    "freq_out = 0\n",
    "NCO = []\n",
    "ΔΦ = 0\n",
    "bandwidth = 0.002\n",
    "β = np.sqrt(bandwidth)\n",
    "\n",
    "Error = []\n",
    "length = len(signal_in)\n",
    "\n",
    "for i in range(length):\n",
    "    NCO.append(np.exp(1j*ϕ_out*t[i]))\n",
    "    ΔΦ = np.angle(signal_in[i]*np.conj(NCO[i]))\n",
    "    freq_out += bandwidth * ΔΦ\n",
    "    ϕ_out += β * ΔΦ * freq_out\n",
    "    Error.append(ΔΦ)\n",
    "plt.figure(4)\n",
    "plt.plot(t,np.real(signal_in),label = 'Input Signal')\n",
    "plt.plot(t,np.real(NCO),label = 'VCO')\n",
    "plt.plot(t,Error,label = ' Φ Error')\n",
    "plt.legend()\n",
    "plt.grid()\n",
    "plt.show()"
   ]
  }
 ],
 "metadata": {
  "kernelspec": {
   "display_name": "Python 3",
   "language": "python",
   "name": "python3"
  },
  "language_info": {
   "codemirror_mode": {
    "name": "ipython",
    "version": 3
   },
   "file_extension": ".py",
   "mimetype": "text/x-python",
   "name": "python",
   "nbconvert_exporter": "python",
   "pygments_lexer": "ipython3",
   "version": "3.8.2"
  }
 },
 "nbformat": 4,
 "nbformat_minor": 4
}
