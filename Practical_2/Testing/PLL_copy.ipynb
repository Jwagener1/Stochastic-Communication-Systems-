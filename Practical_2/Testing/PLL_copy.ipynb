{
 "cells": [
  {
   "cell_type": "code",
   "execution_count": 3,
   "metadata": {},
   "outputs": [],
   "source": [
    "import numpy as np\n",
    "import pdb\n",
    "\n",
    "class SimPLL(object):\n",
    "    def __init__(self, lf_bandwidth):\n",
    "        self.phase_out = 0.0\n",
    "        self.freq_out = 0.0\n",
    "        self.vco = np.exp(1j*self.phase_out)\n",
    "        self.phase_difference = 0.0\n",
    "        self.bw = lf_bandwidth\n",
    "        self.beta = np.sqrt(lf_bandwidth)\n",
    "\n",
    "    def update_phase_estimate(self):\n",
    "        self.vco = np.exp(1j*self.phase_out)\n",
    "\n",
    "    def update_phase_difference(self, in_sig):\n",
    "        self.phase_difference = np.angle(in_sig*np.conj(self.vco))\n",
    "\n",
    "    def step(self, in_sig):\n",
    "        # Takes an instantaneous sample of a signal and updates the PLL's inner state\n",
    "        self.update_phase_difference(in_sig)\n",
    "        self.freq_out += self.bw * self.phase_difference\n",
    "        self.phase_out += self.beta * self.phase_difference + self.freq_out\n",
    "        self.update_phase_estimate()\n",
    "\n",
    "\n",
    "def main():\n",
    "    import matplotlib.pyplot as plt\n",
    "    pll = SimPLL(0.002)\n",
    "    num_samples = 500\n",
    "    phi = 3.0\n",
    "    frequency_offset = -0.2\n",
    "    ref = []\n",
    "    out = []\n",
    "    diff = []\n",
    "    for i in range(0, num_samples - 1):\n",
    "        in_sig = np.exp(1j*phi)\n",
    "        phi += frequency_offset\n",
    "        pll.step(in_sig)\n",
    "        ref.append(in_sig)\n",
    "        out.append(pll.vco)\n",
    "        diff.append(pll.phase_difference)\n",
    "    #plt.plot(ref)\n",
    "    plt.plot(ref)\n",
    "    plt.plot(out)\n",
    "    plt.plot(diff)\n",
    "    plt.show()\n",
    "main()"
   ]
  }
 ],
 "metadata": {
  "kernelspec": {
   "display_name": "Python 3",
   "language": "python",
   "name": "python3"
  },
  "language_info": {
   "codemirror_mode": {
    "name": "ipython",
    "version": 3
   },
   "file_extension": ".py",
   "mimetype": "text/x-python",
   "name": "python",
   "nbconvert_exporter": "python",
   "pygments_lexer": "ipython3",
   "version": "3.8.2"
  }
 },
 "nbformat": 4,
 "nbformat_minor": 4
}
