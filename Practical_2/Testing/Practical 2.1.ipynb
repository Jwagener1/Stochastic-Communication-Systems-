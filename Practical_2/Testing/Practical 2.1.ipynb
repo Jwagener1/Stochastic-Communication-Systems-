{
 "cells": [
  {
   "cell_type": "code",
   "execution_count": 619,
   "metadata": {},
   "outputs": [],
   "source": [
    "import numpy as np\n",
    "import matplotlib.pyplot as plt\n",
    "from matplotlib import rc\n",
    "from matplotlib.ticker import EngFormatter\n",
    "import scipy.signal as sp\n",
    "%matplotlib qt5"
   ]
  },
  {
   "cell_type": "code",
   "execution_count": 620,
   "metadata": {},
   "outputs": [],
   "source": [
    "formatter0 = EngFormatter(unit='Hz')\n",
    "rc('font',family='serif')\n",
    "plt.rcParams['figure.figsize'] = (6,3)\n",
    "plt.rcParams['figure.dpi'] = 150"
   ]
  },
  {
   "cell_type": "code",
   "execution_count": 621,
   "metadata": {},
   "outputs": [],
   "source": [
    "file = open(\"data.bin\", \"r\")\n",
    "interleaved_data = np.fromfile(file, np.uint8)\n",
    "file.close()"
   ]
  },
  {
   "cell_type": "code",
   "execution_count": 622,
   "metadata": {},
   "outputs": [],
   "source": [
    "I_data_raw = interleaved_data[0:len(interleaved_data):2]\n",
    "Q_data_raw = interleaved_data[1:len(interleaved_data):2]\n",
    "\n",
    "I_samples = (I_data_raw-127.5)/127.5\n",
    "Q_samples = (Q_data_raw-127.5)/127.5\n",
    "\n",
    "complex_data = I_samples + 1j*Q_samples"
   ]
  },
  {
   "cell_type": "code",
   "execution_count": 623,
   "metadata": {},
   "outputs": [],
   "source": [
    "plt.figure(1)\n",
    "plt.plot(np.abs(complex_data))\n",
    "plt.xlabel(\"Time Bins\")\n",
    "plt.ylabel(\"Normalized Amplitude\")\n",
    "plt.xlim(0,len(I_samples))\n",
    "#plt.xaxis.set_major_formatter(formatter0)\n",
    "plt.title(\"In-Phase Data (5 Bursts: OOK, 4-ASK, DBPSK, DQPSK, D8PSK)\")\n",
    "plt.grid()\n",
    "plt.show()"
   ]
  },
  {
   "cell_type": "code",
   "execution_count": 605,
   "metadata": {},
   "outputs": [],
   "source": [
    "start = 68027\n",
    "end = 93500"
   ]
  },
  {
   "cell_type": "code",
   "execution_count": 606,
   "metadata": {},
   "outputs": [],
   "source": [
    "DATA_I = I_samples[start:end]\n",
    "DATA_Q = Q_samples[start:end]\n",
    "DATA_mag = np.abs(complex_data)[start:end]"
   ]
  },
  {
   "cell_type": "code",
   "execution_count": 607,
   "metadata": {},
   "outputs": [],
   "source": [
    "DATA_I = DATA_I / DATA_mag.max()\n",
    "DATA_Q = DATA_Q / DATA_mag.max()\n",
    "\n",
    "DATA_signal = DATA_I + 1j*DATA_Q"
   ]
  },
  {
   "cell_type": "code",
   "execution_count": 608,
   "metadata": {},
   "outputs": [],
   "source": [
    "#Scatter Plot of the DBPSK data.\n",
    "f1, ax1 = plt.subplots(1,1)\n",
    "ax1.scatter(np.real(DATA_signal), np.imag(DATA_signal),facecolors='none', edgecolors='r') \n",
    "plt.xlabel(\"In-Phase\") \n",
    "plt.ylabel(\"Quadrature\")\n",
    "plt.grid()\n",
    "plt.show()"
   ]
  },
  {
   "cell_type": "code",
   "execution_count": 609,
   "metadata": {},
   "outputs": [],
   "source": [
    "#create a time array\n",
    "fs = 2.4E6 #Carrier frequency of SDR\n",
    "dt = 1/(fs) #Timestep between samples \n",
    "freq = np.fft.fftfreq(len(DATA_signal),dt)\n",
    "bins=np.arange(0,len(DATA_signal),1)\n",
    "t=bins*dt"
   ]
  },
  {
   "cell_type": "code",
   "execution_count": 610,
   "metadata": {},
   "outputs": [],
   "source": [
    "f2, ax2 = plt.subplots(1,1)\n",
    "ax2.plot(bins,np.abs(DATA_signal),'r')\n",
    "plt.xlabel(\"bins\") \n",
    "plt.ylabel(\"Normalized Magnitude\")\n",
    "plt.grid()\n",
    "plt.show()"
   ]
  },
  {
   "cell_type": "code",
   "execution_count": 611,
   "metadata": {},
   "outputs": [],
   "source": [
    "#FFT before corse frequency correction \n",
    "DATA_SIGNAL_O = np.fft.fft(DATA_signal)\n",
    "DATA_MAG_O = 10*np.log10(np.abs(DATA_SIGNAL_O))"
   ]
  },
  {
   "cell_type": "code",
   "execution_count": 612,
   "metadata": {},
   "outputs": [
    {
     "name": "stdout",
     "output_type": "stream",
     "text": [
      " Corse Frequency Offset: 653030.8226679405 Hz\n"
     ]
    }
   ],
   "source": [
    "Δ_Φ = np.diff(np.unwrap((np.angle(DATA_signal[2:227]))))\n",
    "Δ_f = np.median(Δ_Φ)  / (np.pi*2*dt)  \n",
    "print(\" Corse Frequency Offset:\",Δ_f,'Hz')"
   ]
  },
  {
   "cell_type": "code",
   "execution_count": 613,
   "metadata": {},
   "outputs": [],
   "source": [
    "#FFT after corse frequency correction\n",
    "DATA_signal = DATA_signal*(np.cos(2*np.pi*(-1*Δ_f)*t) + 1j*np.sin(2*np.pi*(-1*Δ_f)*t))\n",
    "DATA_SIGNAL = np.fft.fft(DATA_signal)\n",
    "DATA_MAG = 10*np.log10(np.abs(DATA_SIGNAL))"
   ]
  },
  {
   "cell_type": "code",
   "execution_count": 614,
   "metadata": {},
   "outputs": [],
   "source": [
    "f3, ax3 = plt.subplots(1,1)\n",
    "ax3.xaxis.set_major_formatter(formatter0)\n",
    "ax3.plot(freq,DATA_MAG_O,'r',label='Before Δf correction')\n",
    "ax3.plot(freq,DATA_MAG,'b',label='After Δf correction')\n",
    "plt.xlabel(\"frequency (Hz)\") \n",
    "plt.ylabel(\"Magnitude (dB)\")\n",
    "plt.legend(loc='upper right')\n",
    "plt.ylim(0,DATA_MAG_O.max())\n",
    "plt.grid()\n",
    "plt.show()"
   ]
  },
  {
   "cell_type": "code",
   "execution_count": 615,
   "metadata": {},
   "outputs": [],
   "source": [
    "#DFT of |DBPSK_signal|\n",
    "DATA_SIGNAL_ABS = np.fft.fft(np.abs(DATA_signal))\n",
    "DATA_MAG_ABS = 10*np.log10(np.abs(DATA_SIGNAL_ABS))\n",
    "DATA_SIGNAL_Φ = np.angle(DATA_SIGNAL_ABS)"
   ]
  },
  {
   "cell_type": "code",
   "execution_count": 616,
   "metadata": {},
   "outputs": [],
   "source": [
    "f4, ax4 = plt.subplots(1,1)\n",
    "ax4.xaxis.set_major_formatter(formatter0)\n",
    "ax4.plot(freq,DATA_MAG_ABS,'r')\n",
    "plt.xlabel(\"frequency (Hz)\") \n",
    "plt.ylabel(\"Magnitude (dB)\")\n",
    "plt.xlim(0,freq.max())\n",
    "plt.grid()\n",
    "plt.show()"
   ]
  },
  {
   "cell_type": "code",
   "execution_count": 617,
   "metadata": {},
   "outputs": [
    {
     "name": "stdout",
     "output_type": "stream",
     "text": [
      "Clock Frequency: 94971.14591920857 Hz\n",
      "Φ: -2.8986374289822967 radians\n",
      "bin: 1008\n"
     ]
    }
   ],
   "source": [
    "#Thus we obtain the frequency of the clock by lDBPSKing for the largest spike above the noise.\n",
    "Index_max = 800+(DATA_MAG_ABS[800:1200].argmax())\n",
    "f_clk=freq[Index_max]\n",
    "freq_δ = np.abs(freq[0]-freq[1])/2\n",
    "#Now need to obtain the phase of the clock.\n",
    "# I did this by using the index function which searches the array and returns the bin where that value is located\n",
    "for i, j in enumerate(freq):\n",
    "    if (f_clk-freq_δ) < j < (f_clk+freq_δ):\n",
    "            freq_bin=(i)\n",
    "f_clk = freq[freq_bin]\n",
    "Φ =DATA_SIGNAL_Φ[freq_bin]\n",
    "print('Clock Frequency:',f_clk,'Hz')\n",
    "print('Φ:',Φ,'radians')\n",
    "print('bin:',freq_bin)\n",
    "\n",
    "Φ = DATA_SIGNAL_Φ[freq_bin]\n",
    "f = freq[freq_bin]\n",
    "ω = 2 * np.pi * f\n",
    "NCO = NCO = np.cos((ω*t)+Φ) + 1j*np.sin((ω*t)+Φ)\n",
    "peak_bins = sp.find_peaks(np.real(NCO))\n",
    "ϕ_out = 0\n",
    "freq_out = 0\n",
    "bandwidth = 0.002\n",
    "β = np.sqrt(bandwidth)\n",
    "length = len(peak_bins[0])\n",
    "symbol_data = []\n",
    "error = []\n",
    "for k in peak_bins[0]:\n",
    "        symbol_data.append(DATA_signal[k])\n",
    "sym_length = len(symbol_data) - 2\n",
    "i=0\n",
    "while  i < length:\n",
    "    ΔΦ = np.angle(symbol_data[i]*np.conj(NCO[peak_bins[0][i]]))\n",
    "    error.append(ΔΦ)\n",
    "    freq_out += bandwidth * ΔΦ\n",
    "    ϕ_out += β * ΔΦ * freq_out\n",
    "    NCO = NCO * np.e**(-1j*ϕ_out)\n",
    "    peak_bins = sp.find_peaks(np.real(NCO))\n",
    "    length = len(peak_bins[0])\n",
    "    if sym_length < i:\n",
    "        symbol_data.append(DATA_signal[peak_bins[0][i]])\n",
    "    else:\n",
    "        symbol_data[i] = (DATA_signal[peak_bins[0][i]])\n",
    "    i +=1\n",
    "plt.figure(6)\n",
    "plt.plot(np.unwrap(error))\n",
    "plt.grid()\n",
    "plt.show()"
   ]
  },
  {
   "cell_type": "code",
   "execution_count": 618,
   "metadata": {},
   "outputs": [],
   "source": [
    "plt.figure(7)\n",
    "plt.plot(bins,np.abs(DATA_signal))\n",
    "plt.plot(bins,np.real(NCO))\n",
    "plt.xlim(0,290)\n",
    "plt.grid()\n",
    "plt.show()\n",
    "\n",
    "sym_max = np.abs(symbol_data).max()\n",
    "norm_data = np.real(symbol_data)/sym_max + 1j*np.imag(symbol_data)/sym_max\n",
    "        \n",
    "plt.figure(8)\n",
    "plt.scatter(np.real(norm_data),np.imag(norm_data) ,linewidths=0.1,facecolors='b', edgecolors='b')\n",
    "plt.xlabel(\"In-Phase\") \n",
    "plt.ylabel(\"Quadrature\")\n",
    "plt.title(\"OOK: Scatter plot, downsampled\")\n",
    "plt.grid()\n",
    "plt.show()"
   ]
  },
  {
   "cell_type": "code",
   "execution_count": 481,
   "metadata": {},
   "outputs": [],
   "source": [
    "peak_bins = sp.find_peaks(np.real(NCO))"
   ]
  },
  {
   "cell_type": "code",
   "execution_count": null,
   "metadata": {},
   "outputs": [],
   "source": []
  },
  {
   "cell_type": "code",
   "execution_count": 482,
   "metadata": {},
   "outputs": [
    {
     "name": "stdout",
     "output_type": "stream",
     "text": [
      "-0.6400889362868709\n"
     ]
    }
   ],
   "source": [
    "symbol_data = []\n",
    "ΔΦ = 0\n",
    "# First Symbol\n",
    "b = peak_bins[0][0]\n",
    "symbol_data.append(DATA_signal[b])\n",
    "# First Symbol Prediction\n",
    "p0 = 1 + 1j*0\n",
    "# Phase difference\n",
    "ΔΦ += np.angle(symbol_data[0]*np.conj(p0))\n",
    "symbol_data[0] = symbol_data[0] * np.e**(-1j*ΔΦ)\n",
    "#Second Symbol\n",
    "b = peak_bins[0][1]\n",
    "symbol_data.append(DATA_signal[b])\n",
    "# Second Symbol Prediction\n",
    "p1 = p0\n",
    "# Phase difference\n",
    "print(np.angle(symbol_data[1]*np.conj(p1)))\n",
    "ΔΦ += np.angle(symbol_data[1]*np.conj(symbol_data[0]))\n",
    "symbol_data[1] = symbol_data[1] * np.e**(-1j*ΔΦ)"
   ]
  },
  {
   "cell_type": "code",
   "execution_count": 483,
   "metadata": {},
   "outputs": [],
   "source": [
    "sym_max = np.abs(symbol_data).max()\n",
    "norm_data = np.real(symbol_data)/sym_max + 1j*np.imag(symbol_data)/sym_max\n",
    "plt.figure(8)\n",
    "plt.scatter(np.real(norm_data),np.imag(norm_data) ,linewidths=0.1,facecolors='b', edgecolors='b')\n",
    "#plt.scatter(np.real(p1),np.imag(p1) ,linewidths=0.1,facecolors='b', edgecolors='b')\n",
    "plt.xlabel(\"In-Phase\") \n",
    "plt.ylabel(\"Quadrature\")\n",
    "plt.title(\"OOK: Scatter plot, downsampled\")\n",
    "plt.xlim(-1.1,1.1)\n",
    "plt.ylim(-1.1,1.1)\n",
    "plt.grid()\n",
    "plt.show()"
   ]
  },
  {
   "cell_type": "code",
   "execution_count": 484,
   "metadata": {},
   "outputs": [],
   "source": [
    "\n",
    "peak_bins = sp.find_peaks(np.real(NCO))\n",
    "for k in peak_bins[0]:\n",
    "        symbol_data.append(DATA_signal[k])"
   ]
  },
  {
   "cell_type": "code",
   "execution_count": 485,
   "metadata": {},
   "outputs": [],
   "source": [
    "\n",
    "                 \n",
    "plt.figure(7)\n",
    "plt.plot(np.unwrap(Error))\n",
    "plt.grid()\n",
    "plt.show()\n",
    "\n",
    "plt.figure(8)\n",
    "plt.scatter(np.real(symbol_data), np.imag(symbol_data),linewidths=0.1,facecolors='b', edgecolors='b')\n",
    "plt.xlabel(\"In-Phase\") \n",
    "plt.ylabel(\"Quadrature\")\n",
    "plt.title(\"DBPSK: Scatter plot, downsampled\")\n",
    "plt.grid()\n",
    "plt.show()"
   ]
  }
 ],
 "metadata": {
  "kernelspec": {
   "display_name": "Python 3",
   "language": "python",
   "name": "python3"
  },
  "language_info": {
   "codemirror_mode": {
    "name": "ipython",
    "version": 3
   },
   "file_extension": ".py",
   "mimetype": "text/x-python",
   "name": "python",
   "nbconvert_exporter": "python",
   "pygments_lexer": "ipython3",
   "version": "3.8.2"
  }
 },
 "nbformat": 4,
 "nbformat_minor": 4
}
